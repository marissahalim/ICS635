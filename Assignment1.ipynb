{
  "nbformat": 4,
  "nbformat_minor": 0,
  "metadata": {
    "colab": {
      "provenance": [],
      "authorship_tag": "ABX9TyOipj5k+U558oBAN2wHvgzL",
      "include_colab_link": true
    },
    "kernelspec": {
      "name": "python3",
      "display_name": "Python 3"
    },
    "language_info": {
      "name": "python"
    }
  },
  "cells": [
    {
      "cell_type": "markdown",
      "metadata": {
        "id": "view-in-github",
        "colab_type": "text"
      },
      "source": [
        "<a href=\"https://colab.research.google.com/github/marissahalim/ICS635/blob/main/Assignment1.ipynb\" target=\"_parent\"><img src=\"https://colab.research.google.com/assets/colab-badge.svg\" alt=\"Open In Colab\"/></a>"
      ]
    },
    {
      "cell_type": "markdown",
      "source": [
        "# Data Preprocessing"
      ],
      "metadata": {
        "id": "gkKQEOFdLyWN"
      }
    },
    {
      "cell_type": "code",
      "execution_count": 207,
      "metadata": {
        "id": "x7ileoeSkAtK"
      },
      "outputs": [],
      "source": [
        "# Load the Breast Cancer dataset using load_breast_cancer from sklearn\n",
        "import sklearn\n",
        "import pandas as pd\n",
        "import sklearn.tree\n",
        "from sklearn.datasets import load_breast_cancer\n",
        "from sklearn.model_selection import train_test_split\n",
        "from sklearn.preprocessing import StandardScaler\n",
        "from sklearn.ensemble import RandomForestClassifier\n",
        "from sklearn import neighbors\n",
        "from sklearn.metrics import accuracy_score, precision_score, recall_score, f1_score, confusion_matrix\n",
        "\n",
        "bc = load_breast_cancer()\n",
        "\n",
        "# Partition the data into an 80% training set and a 20% test set.\n",
        "X, y = bc.data, bc.target\n",
        "\n",
        "X_train, X_test, y_train, y_test = train_test_split(X, y, test_size=0.20)\n",
        "\n",
        "# Scale the features using StandardScaler for KNN\n",
        "scaler = StandardScaler()\n",
        "\n",
        "X_train_scaled = scaler.fit_transform(X_train)\n",
        "X_test_scaled = scaler.transform(X_test)\n",
        "\n",
        "# array for metrics\n",
        "metric_scores = ['Accuracy', 'Precision', 'Recall', 'F1']\n"
      ]
    },
    {
      "cell_type": "markdown",
      "source": [
        "# K-Nearest Neighbors"
      ],
      "metadata": {
        "id": "VOuAo79bMByS"
      }
    },
    {
      "cell_type": "code",
      "source": [
        "# ----- Train KNN -----\n",
        "\n",
        "# start with n_neighbors = 5\n",
        "model_KNN = neighbors.KNeighborsClassifier(n_neighbors=5)\n",
        "\n",
        "model_KNN.fit(X_train_scaled, y_train)\n",
        "\n",
        "\n",
        "# ----- Evaluate KNN -----\n",
        "\n",
        "# Test model\n",
        "pred_KNN = model_KNN.predict(X_test_scaled)\n",
        "\n",
        "# Accuracy\n",
        "accuracy_KNN = accuracy_score(y_test, pred_KNN)\n",
        "print(f\"Accuracy of KNN (n=5): {accuracy_KNN:.4f}\")\n",
        "\n",
        "# Precision\n",
        "precision_KNN = precision_score(y_test, pred_KNN)\n",
        "print(f\"Precision of KNN (n=5): {precision_KNN:.4f}\")\n",
        "\n",
        "# Recall\n",
        "recall_KNN = recall_score(y_test, pred_KNN)\n",
        "print(f\"Recall of KNN (n=5): {recall_KNN:.4f}\")\n",
        "\n",
        "# F1-score\n",
        "f1_KNN = f1_score(y_test, pred_KNN)\n",
        "print(f\"F1 score of KNN (n=5): {f1_KNN:.4f}\")\n",
        "\n",
        "metrics_KNN = [accuracy_KNN, precision_KNN, recall_KNN, f1_KNN]\n",
        "\n",
        "print(\"\\n\")\n",
        "\n",
        "# Confusion matrix\n",
        "print(\"KNN Confusion matrix:\")\n",
        "confusion_matrix(y_test, pred_KNN)"
      ],
      "metadata": {
        "colab": {
          "base_uri": "https://localhost:8080/"
        },
        "id": "XgzmpPFHPA4w",
        "outputId": "6324bd1e-3020-4bc7-8437-d3751a93013b"
      },
      "execution_count": 208,
      "outputs": [
        {
          "output_type": "stream",
          "name": "stdout",
          "text": [
            "Accuracy of KNN (n=5): 0.9386\n",
            "Precision of KNN (n=5): 0.9067\n",
            "Recall of KNN (n=5): 1.0000\n",
            "F1 score of KNN (n=5): 0.9510\n",
            "\n",
            "\n",
            "KNN Confusion matrix:\n"
          ]
        },
        {
          "output_type": "execute_result",
          "data": {
            "text/plain": [
              "array([[39,  7],\n",
              "       [ 0, 68]])"
            ]
          },
          "metadata": {},
          "execution_count": 208
        }
      ]
    },
    {
      "cell_type": "markdown",
      "source": [
        "# Decision Tree"
      ],
      "metadata": {
        "id": "2FdrswsQOUrV"
      }
    },
    {
      "cell_type": "code",
      "source": [
        "# ----- Train Decision Tree -----\n",
        "\n",
        "# default settings\n",
        "model_DT_def = sklearn.tree.DecisionTreeClassifier()\n",
        "model_DT_def.fit(X_train, y_train)\n",
        "\n",
        "model_DT_def.get_depth()\n",
        "\n",
        "# visualize model\n",
        "# sklearn.tree.plot_tree(model_DT_def, proportion=True)\n",
        "\n",
        "# ----- Evaluate Decision Tree -----\n",
        "\n",
        "# Test model\n",
        "pred_DT_def = model_DT_def.predict(X_test)\n",
        "\n",
        "# Accuracy\n",
        "accuracy_DT_def = accuracy_score(y_test, pred_DT_def)\n",
        "print(f\"Accuracy of Decision Tree (default): {accuracy_DT_def:.4f}\")\n",
        "\n",
        "# Precision\n",
        "precision_DT_def = precision_score(y_test, pred_DT_def)\n",
        "print(f\"Precision of Decision Tree (default): {precision_DT_def:.4f}\")\n",
        "\n",
        "# Recall\n",
        "recall_DT_def = recall_score(y_test, pred_DT_def)\n",
        "print(f\"Recall of Decision Tree (default): {recall_DT_def:.4f}\")\n",
        "\n",
        "# F1-score\n",
        "f1_DT_def = f1_score(y_test, pred_DT_def)\n",
        "print(f\"F1 score of Decision Tree (default): {f1_DT_def:.4f}\")\n",
        "\n",
        "metrics_DT = [accuracy_DT_def, precision_DT_def, recall_DT_def, f1_DT_def]\n",
        "\n",
        "print(\"\\n\")\n",
        "\n",
        "# Confusion matrix\n",
        "cm_DT_def = confusion_matrix(y_test, pred_DT_def)\n",
        "print(\"Decision Tree Confusion matrix:\")\n",
        "print(cm_DT_def)\n",
        "\n",
        "\n"
      ],
      "metadata": {
        "colab": {
          "base_uri": "https://localhost:8080/"
        },
        "id": "awE8u5CBOknq",
        "outputId": "b85943ec-5135-42b9-ebf4-0558cefd2fbe"
      },
      "execution_count": 209,
      "outputs": [
        {
          "output_type": "stream",
          "name": "stdout",
          "text": [
            "Accuracy of Decision Tree (default): 0.9298\n",
            "Precision of Decision Tree (default): 0.9286\n",
            "Recall of Decision Tree (default): 0.9559\n",
            "F1 score of Decision Tree (default): 0.9420\n",
            "\n",
            "\n",
            "Decision Tree Confusion matrix:\n",
            "[[41  5]\n",
            " [ 3 65]]\n"
          ]
        }
      ]
    },
    {
      "cell_type": "markdown",
      "source": [
        "# Random Forest"
      ],
      "metadata": {
        "id": "tJBBJ0HmOaQH"
      }
    },
    {
      "cell_type": "code",
      "source": [
        "# ----- Train Random Forest -----\n",
        "\n",
        "# 100 trees\n",
        "model_RF = RandomForestClassifier()\n",
        "model_RF.fit(X_train, y_train)\n",
        "\n",
        "\n",
        "# ----- Evaluate Random Forest -----\n",
        "\n",
        "# Test model\n",
        "pred_RF = model_RF.predict(X_test)\n",
        "\n",
        "# Accuracy\n",
        "accuracy_RF = accuracy_score(y_test, pred_RF)\n",
        "print(f\"Accuracy of Random Forest (default): {accuracy_RF:.4f}\")\n",
        "\n",
        "# Precision\n",
        "precision_RF = precision_score(y_test, pred_RF)\n",
        "print(f\"Precision of Random Forest (default): {precision_RF:.4f}\")\n",
        "\n",
        "\n",
        "# Recall\n",
        "recall_RF = recall_score(y_test, pred_RF)\n",
        "print(f\"Recall of Random Forest (default): {recall_RF:.4f}\")\n",
        "\n",
        "\n",
        "# F1-score\n",
        "f1_RF = f1_score(y_test, pred_RF)\n",
        "print(f\"F1 score of Random Forest (default): {f1_RF:.4f}\")\n",
        "\n",
        "metrics_RF = [accuracy_RF, precision_RF, recall_RF, f1_RF]\n",
        "\n",
        "print(\"\\n\")\n",
        "\n",
        "# Confusion matrix\n",
        "print(\"Random Forest Confusion matrix:\")\n",
        "cm_RF = confusion_matrix(y_test, pred_RF)\n",
        "print(cm_RF)\n",
        "\n"
      ],
      "metadata": {
        "colab": {
          "base_uri": "https://localhost:8080/"
        },
        "id": "tOqV-BSkOtLY",
        "outputId": "b8dc81f5-5143-434a-dc26-ae1bfd7e380a"
      },
      "execution_count": 210,
      "outputs": [
        {
          "output_type": "stream",
          "name": "stdout",
          "text": [
            "Accuracy of Random Forest (default): 0.9649\n",
            "Precision of Random Forest (default): 0.9444\n",
            "Recall of Random Forest (default): 1.0000\n",
            "F1 score of Random Forest (default): 0.9714\n",
            "\n",
            "\n",
            "Random Forest Confusion matrix:\n",
            "[[42  4]\n",
            " [ 0 68]]\n"
          ]
        }
      ]
    },
    {
      "cell_type": "markdown",
      "source": [
        "# Evaluation"
      ],
      "metadata": {
        "id": "l8lgayPGM1Xu"
      }
    },
    {
      "cell_type": "code",
      "source": [
        "models_df = pd.DataFrame({\n",
        "    'Metric': metric_scores,\n",
        "    'KNN': metrics_KNN,\n",
        "    'Decision Tree': metrics_DT,\n",
        "    'Random Forest': metrics_RF\n",
        "})\n",
        "\n",
        "print(models_df)"
      ],
      "metadata": {
        "colab": {
          "base_uri": "https://localhost:8080/"
        },
        "id": "e6OG3aPc4R5K",
        "outputId": "0aebbd72-a740-4aeb-96e7-362db616bad8"
      },
      "execution_count": 211,
      "outputs": [
        {
          "output_type": "stream",
          "name": "stdout",
          "text": [
            "      Metric       KNN  Decision Tree  Random Forest\n",
            "0   Accuracy  0.938596       0.929825       0.964912\n",
            "1  Precision  0.906667       0.928571       0.944444\n",
            "2     Recall  1.000000       0.955882       1.000000\n",
            "3         F1  0.951049       0.942029       0.971429\n"
          ]
        }
      ]
    },
    {
      "cell_type": "markdown",
      "source": [
        "# Ablation Study"
      ],
      "metadata": {
        "id": "EDnTtqmQPMDr"
      }
    },
    {
      "cell_type": "code",
      "source": [
        "# ----- KNN -----\n",
        "\n",
        "# ----- Train KNN -----\n",
        "\n",
        "# start with n_neighbors = 3\n",
        "model_KNN = neighbors.KNeighborsClassifier(n_neighbors=3)\n",
        "\n",
        "model_KNN.fit(X_train_scaled, y_train)\n",
        "\n",
        "\n",
        "# ----- Evaluate KNN -----\n",
        "\n",
        "# Test model\n",
        "pred_KNN = model_KNN.predict(X_test_scaled)\n",
        "\n",
        "# Accuracy\n",
        "accuracy_KNN = accuracy_score(y_test, pred_KNN)\n",
        "print(f\"Accuracy of KNN (n=3): {accuracy_KNN:.4f}\")\n",
        "\n",
        "# Precision\n",
        "precision_KNN = precision_score(y_test, pred_KNN)\n",
        "print(f\"Precision of KNN (n=3): {precision_KNN:.4f}\")\n",
        "\n",
        "# Recall\n",
        "recall_KNN = recall_score(y_test, pred_KNN)\n",
        "print(f\"Recall of KNN (n=3): {recall_KNN:.4f}\")\n",
        "\n",
        "# F1-score\n",
        "f1_KNN = f1_score(y_test, pred_KNN)\n",
        "print(f\"F1 score of KNN (n=3): {f1_KNN:.4f}\")\n",
        "\n",
        "metrics_KNN_3 = [accuracy_KNN, precision_KNN, recall_KNN, f1_KNN]\n",
        "\n",
        "print(\"\\n\")\n",
        "\n",
        "# Confusion matrix\n",
        "print(\"KNN Confusion matrix:\")\n",
        "confusion_matrix(y_test, pred_KNN)"
      ],
      "metadata": {
        "id": "0oAvDviw3UH9",
        "colab": {
          "base_uri": "https://localhost:8080/"
        },
        "outputId": "21426ea2-98ef-4738-dc38-60c460ac2edd"
      },
      "execution_count": 191,
      "outputs": [
        {
          "output_type": "stream",
          "name": "stdout",
          "text": [
            "Accuracy of KNN (n=3): 0.9825\n",
            "Precision of KNN (n=3): 0.9861\n",
            "Recall of KNN (n=3): 0.9861\n",
            "F1 score of KNN (n=3): 0.9861\n",
            "\n",
            "\n",
            "KNN Confusion matrix:\n"
          ]
        },
        {
          "output_type": "execute_result",
          "data": {
            "text/plain": [
              "array([[41,  1],\n",
              "       [ 1, 71]])"
            ]
          },
          "metadata": {},
          "execution_count": 191
        }
      ]
    },
    {
      "cell_type": "code",
      "source": [
        "# ----- KNN -----\n",
        "\n",
        "# ----- Train KNN -----\n",
        "\n",
        "# start with n_neighbors = 1\n",
        "model_KNN = neighbors.KNeighborsClassifier(n_neighbors=1)\n",
        "\n",
        "model_KNN.fit(X_train_scaled, y_train)\n",
        "\n",
        "\n",
        "# ----- Evaluate KNN -----\n",
        "\n",
        "# Test model\n",
        "pred_KNN = model_KNN.predict(X_test_scaled)\n",
        "\n",
        "# Accuracy\n",
        "accuracy_KNN = accuracy_score(y_test, pred_KNN)\n",
        "print(f\"Accuracy of KNN (n=1): {accuracy_KNN:.4f}\")\n",
        "\n",
        "# Precision\n",
        "precision_KNN = precision_score(y_test, pred_KNN)\n",
        "print(f\"Precision of KNN (n=1): {precision_KNN:.4f}\")\n",
        "\n",
        "# Recall\n",
        "recall_KNN = recall_score(y_test, pred_KNN)\n",
        "print(f\"Recall of KNN (n=1): {recall_KNN:.4f}\")\n",
        "\n",
        "# F1-score\n",
        "f1_KNN = f1_score(y_test, pred_KNN)\n",
        "print(f\"F1 score of KNN (n=1): {f1_KNN:.4f}\")\n",
        "\n",
        "metrics_KNN_1 = [accuracy_KNN, precision_KNN, recall_KNN, f1_KNN]\n",
        "\n",
        "print(\"\\n\")\n",
        "\n",
        "# Confusion matrix\n",
        "print(\"KNN Confusion matrix:\")\n",
        "confusion_matrix(y_test, pred_KNN)"
      ],
      "metadata": {
        "colab": {
          "base_uri": "https://localhost:8080/"
        },
        "id": "rx6k6jevVMvY",
        "outputId": "1a4f7ead-2567-4f50-ee0d-ef286930cae1"
      },
      "execution_count": 192,
      "outputs": [
        {
          "output_type": "stream",
          "name": "stdout",
          "text": [
            "Accuracy of KNN (n=1): 0.9298\n",
            "Precision of KNN (n=1): 0.9706\n",
            "Recall of KNN (n=1): 0.9167\n",
            "F1 score of KNN (n=1): 0.9429\n",
            "\n",
            "\n",
            "KNN Confusion matrix:\n"
          ]
        },
        {
          "output_type": "execute_result",
          "data": {
            "text/plain": [
              "array([[40,  2],\n",
              "       [ 6, 66]])"
            ]
          },
          "metadata": {},
          "execution_count": 192
        }
      ]
    },
    {
      "cell_type": "code",
      "source": [
        "models_KNN = pd.DataFrame({\n",
        "    'Metric': metric_scores,\n",
        "    'KNN (n=5)': metrics_KNN,\n",
        "    'KNN (n=3)': metrics_KNN_3,\n",
        "    'KNN (n=1)': metrics_KNN_1\n",
        "})\n",
        "\n",
        "print(models_KNN)"
      ],
      "metadata": {
        "colab": {
          "base_uri": "https://localhost:8080/"
        },
        "id": "PddqiaoLryTD",
        "outputId": "902b6d79-8089-4f2b-9354-86f50b34365a"
      },
      "execution_count": 193,
      "outputs": [
        {
          "output_type": "stream",
          "name": "stdout",
          "text": [
            "      Metric  KNN (n=5)  KNN (n=3)  KNN (n=1)\n",
            "0   Accuracy   0.982456   0.982456   0.929825\n",
            "1  Precision   0.986111   0.986111   0.970588\n",
            "2     Recall   0.986111   0.986111   0.916667\n",
            "3         F1   0.986111   0.986111   0.942857\n"
          ]
        }
      ]
    },
    {
      "cell_type": "code",
      "source": [
        "# ----- Decision Trees -----\n",
        "\n",
        "# max_depth\n",
        "model_DT_maxD = sklearn.tree.DecisionTreeClassifier(max_depth=5)\n",
        "model_DT_maxD.fit(X_train, y_train)\n",
        "\n",
        "# visualize model\n",
        "# sklearn.tree.plot_tree(model_DT_maxD, proportion=True)\n",
        "\n",
        "pred_DT_maxD = model_DT_maxD.predict(X_test)\n",
        "\n",
        "accuracy_DT_maxD = accuracy_score(y_test, pred_DT_maxD)\n",
        "print(f\"Accuracy of Decision Tree (max depth): {accuracy_DT_maxD:.4f}\")\n",
        "\n",
        "precision_DT_maxD = precision_score(y_test, pred_DT_maxD)\n",
        "print(f\"Precision of Decision Tree (max depth): {precision_DT_maxD:.4f}\")\n",
        "\n",
        "recall_DT_maxD = precision_score(y_test, pred_DT_maxD)\n",
        "print(f\"Recall of Decision Tree (max depth): {recall_DT_maxD:.4f}\")\n",
        "\n",
        "f1_DT_maxD = f1_score(y_test, pred_DT_maxD)\n",
        "print(f\"F1 score of Decision Tree (max depth): {f1_DT_maxD:.4f}\")\n",
        "\n",
        "cm_DT_maxD = confusion_matrix(y_test, pred_DT_maxD)\n",
        "print(\"Confusion matrix (max depth):\")\n",
        "print(cm_DT_maxD)"
      ],
      "metadata": {
        "colab": {
          "base_uri": "https://localhost:8080/"
        },
        "id": "uUNqzbYY3Q7K",
        "outputId": "739e7094-ac5e-4201-88c5-b3717c9581cd"
      },
      "execution_count": 194,
      "outputs": [
        {
          "output_type": "stream",
          "name": "stdout",
          "text": [
            "Accuracy of Decision Tree (max depth): 0.9649\n",
            "Precision of Decision Tree (max depth): 0.9722\n",
            "Recall of Decision Tree (max depth): 0.9722\n",
            "F1 score of Decision Tree (max depth): 0.9722\n",
            "Confusion matrix (max depth):\n",
            "[[40  2]\n",
            " [ 2 70]]\n"
          ]
        }
      ]
    },
    {
      "cell_type": "code",
      "source": [
        "# ----- Random Forests -----\n",
        "\n",
        "# test an increase in the min_sample_split\n",
        "model_RF_mss = RandomForestClassifier(min_samples_split=4)\n",
        "model_RF_mss.fit(X_train, y_train)\n",
        "pred_RF_mss = model_RF_mss.predict(X_test)\n",
        "\n",
        "accuracy_RF_mss = accuracy_score(y_test, pred_RF_mss)\n",
        "print(f\"Accuracy of Decision Tree (mss = 4): {accuracy_RF_mss:.4f}\")\n",
        "\n",
        "precision_RF_mss = precision_score(y_test, pred_RF_mss)\n",
        "print(f\"Precision of Decision Tree (max depth): {precision_RF_mss:.4f}\")\n",
        "\n",
        "recall_RF_mss = precision_score(y_test, pred_RF_mss)\n",
        "print(f\"Recall of Decision Tree (max depth): {recall_RF_mss:.4f}\")\n",
        "\n",
        "f1_RF_mss = f1_score(y_test, pred_RF_mss)\n",
        "print(f\"F1 score of Decision Tree (max depth): {f1_RF_mss:.4f}\")\n",
        "\n",
        "\n",
        "model_RF_increase_mss = [accuracy_RF_mss, precision_RF_mss, recall_RF_mss, f1_RF_mss]\n",
        "\n",
        "\n",
        "# test an increase in the tree estimators\n",
        "model_RF_est = RandomForestClassifier(n_estimators=200)\n",
        "model_RF_est.fit(X_train, y_train)\n",
        "pred_RF_est = model_RF_est.predict(X_test)\n",
        "\n",
        "accuracy_RF_est = accuracy_score(y_test, pred_RF_est)\n",
        "print(f\"Accuracy of Decision Tree (mss = 4): {accuracy_RF_est:.4f}\")\n",
        "\n",
        "precision_RF_est = precision_score(y_test, pred_RF_est)\n",
        "print(f\"Precision of Decision Tree (max depth): {precision_RF_est:.4f}\")\n",
        "\n",
        "recall_RF_est = precision_score(y_test, pred_RF_est)\n",
        "print(f\"Recall of Decision Tree (max depth): {recall_RF_est:.4f}\")\n",
        "\n",
        "f1_RF_est = f1_score(y_test, pred_RF_est)\n",
        "print(f\"F1 score of Decision Tree (max depth): {f1_RF_est:.4f}\")\n",
        "\n",
        "model_RF_increase_est = [accuracy_RF_est, precision_RF_est, recall_RF_est, f1_RF_est]\n"
      ],
      "metadata": {
        "id": "uhqKRp0g2lR_",
        "colab": {
          "base_uri": "https://localhost:8080/"
        },
        "outputId": "3420301f-484f-4791-f16f-b8a252984261"
      },
      "execution_count": 195,
      "outputs": [
        {
          "output_type": "stream",
          "name": "stdout",
          "text": [
            "Accuracy of Decision Tree (mss = 4): 0.9649\n",
            "Precision of Decision Tree (max depth): 0.9595\n",
            "Recall of Decision Tree (max depth): 0.9595\n",
            "F1 score of Decision Tree (max depth): 0.9726\n",
            "Accuracy of Decision Tree (mss = 4): 0.9737\n",
            "Precision of Decision Tree (max depth): 0.9726\n",
            "Recall of Decision Tree (max depth): 0.9726\n",
            "F1 score of Decision Tree (max depth): 0.9793\n"
          ]
        }
      ]
    },
    {
      "cell_type": "code",
      "source": [
        "models_RF = pd.DataFrame({\n",
        "    'Metric': metric_scores,\n",
        "    'Random Forest (default)': metrics_RF,\n",
        "    'Random Forest (min_samples_split = 4)': model_RF_increase_mss,\n",
        "    'Random Forest (n_estimators = 200)': model_RF_increase_est\n",
        "})\n",
        "\n",
        "print(models_RF)"
      ],
      "metadata": {
        "colab": {
          "base_uri": "https://localhost:8080/"
        },
        "id": "doyBparj5qmn",
        "outputId": "77d72cbd-88ef-441d-cd29-c52f5e97102f"
      },
      "execution_count": 196,
      "outputs": [
        {
          "output_type": "stream",
          "name": "stdout",
          "text": [
            "      Metric  Random Forest (default)  Random Forest (min_samples_split = 4)  \\\n",
            "0   Accuracy                 0.982456                               0.964912   \n",
            "1  Precision                 0.986111                               0.959459   \n",
            "2     Recall                 0.986111                               0.959459   \n",
            "3         F1                 0.986111                               0.972603   \n",
            "\n",
            "   Random Forest (n_estimators = 200)  \n",
            "0                            0.973684  \n",
            "1                            0.972603  \n",
            "2                            0.972603  \n",
            "3                            0.979310  \n"
          ]
        }
      ]
    }
  ]
}