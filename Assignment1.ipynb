{
  "nbformat": 4,
  "nbformat_minor": 0,
  "metadata": {
    "colab": {
      "provenance": [],
      "authorship_tag": "ABX9TyPGWDu+bOMRsK8UeuYICRvg",
      "include_colab_link": true
    },
    "kernelspec": {
      "name": "python3",
      "display_name": "Python 3"
    },
    "language_info": {
      "name": "python"
    }
  },
  "cells": [
    {
      "cell_type": "markdown",
      "metadata": {
        "id": "view-in-github",
        "colab_type": "text"
      },
      "source": [
        "<a href=\"https://colab.research.google.com/github/marissahalim/ICS635/blob/main/Assignment1.ipynb\" target=\"_parent\"><img src=\"https://colab.research.google.com/assets/colab-badge.svg\" alt=\"Open In Colab\"/></a>"
      ]
    },
    {
      "cell_type": "markdown",
      "source": [
        "# Data Preprocessing"
      ],
      "metadata": {
        "id": "gkKQEOFdLyWN"
      }
    },
    {
      "cell_type": "code",
      "execution_count": null,
      "metadata": {
        "id": "x7ileoeSkAtK"
      },
      "outputs": [],
      "source": [
        "# Load the Breast Cancer dataset using load_breast_cancer from sklearn\n",
        "import sklearn\n",
        "import pandas as pd\n",
        "import sklearn.tree\n",
        "from sklearn.datasets import load_breast_cancer\n",
        "from sklearn.model_selection import train_test_split\n",
        "from sklearn.preprocessing import StandardScaler\n",
        "from sklearn.ensemble import RandomForestClassifier\n",
        "from sklearn import neighbors\n",
        "from sklearn.metrics import accuracy_score, precision_score, recall_score, f1_score, confusion_matrix\n",
        "\n",
        "bc = load_breast_cancer()\n",
        "\n",
        "# Partition the data into an 80% training set and a 20% test set.\n",
        "X, y = bc.data, bc.target\n",
        "\n",
        "X_train, X_test, y_train, y_test = train_test_split(X, y, test_size=0.20)\n",
        "\n",
        "# Scale the features using StandardScaler for KNN\n",
        "scaler = StandardScaler()\n",
        "\n",
        "X_train_scaled = scaler.fit_transform(X_train)\n",
        "X_test_scaled = scaler.transform(X_test)\n",
        "\n",
        "# array for metrics\n",
        "metric_scores = ['Accuracy', 'Precision', 'Recall', 'F1']\n"
      ]
    },
    {
      "cell_type": "markdown",
      "source": [
        "# K-Nearest Neighbors"
      ],
      "metadata": {
        "id": "VOuAo79bMByS"
      }
    },
    {
      "cell_type": "code",
      "source": [
        "# ----- Train KNN -----\n",
        "\n",
        "# start with n_neighbors = 5\n",
        "model_KNN = neighbors.KNeighborsClassifier(n_neighbors=5)\n",
        "\n",
        "model_KNN.fit(X_train_scaled, y_train)\n",
        "\n",
        "\n",
        "# ----- Evaluate KNN -----\n",
        "\n",
        "# Test model\n",
        "pred_KNN = model_KNN.predict(X_test_scaled)\n",
        "\n",
        "# Accuracy\n",
        "accuracy_KNN = accuracy_score(y_test, pred_KNN)\n",
        "print(f\"Accuracy of KNN (n=5): {accuracy_KNN:.4f}\")\n",
        "\n",
        "# Precision\n",
        "precision_KNN = precision_score(y_test, pred_KNN)\n",
        "print(f\"Precision of KNN (n=5): {precision_KNN:.4f}\")\n",
        "\n",
        "# Recall\n",
        "recall_KNN = recall_score(y_test, pred_KNN)\n",
        "print(f\"Recall of KNN (n=5): {recall_KNN:.4f}\")\n",
        "\n",
        "# F1-score\n",
        "f1_KNN = f1_score(y_test, pred_KNN)\n",
        "print(f\"F1 score of KNN (n=5): {f1_KNN:.4f}\")\n",
        "\n",
        "metrics_KNN = [accuracy_KNN, precision_KNN, recall_KNN, f1_KNN]\n",
        "\n",
        "print(\"\\n\")\n",
        "\n",
        "# Confusion matrix\n",
        "print(\"KNN Confusion matrix:\")\n",
        "confusion_matrix(y_test, pred_KNN)"
      ],
      "metadata": {
        "colab": {
          "base_uri": "https://localhost:8080/"
        },
        "id": "XgzmpPFHPA4w",
        "outputId": "c313bb34-6ca1-43d1-d606-6099f9f5409e"
      },
      "execution_count": null,
      "outputs": [
        {
          "output_type": "stream",
          "name": "stdout",
          "text": [
            "Accuracy of KNN (n=5): 0.9825\n",
            "Precision of KNN (n=5): 1.0000\n",
            "Recall of KNN (n=5): 0.9730\n",
            "F1 score of KNN (n=5): 0.9863\n",
            "\n",
            "\n",
            "KNN Confusion matrix:\n"
          ]
        },
        {
          "output_type": "execute_result",
          "data": {
            "text/plain": [
              "array([[40,  0],\n",
              "       [ 2, 72]])"
            ]
          },
          "metadata": {},
          "execution_count": 23
        }
      ]
    },
    {
      "cell_type": "markdown",
      "source": [
        "# Decision Tree"
      ],
      "metadata": {
        "id": "2FdrswsQOUrV"
      }
    },
    {
      "cell_type": "code",
      "source": [
        "# ----- Train Decision Tree -----\n",
        "\n",
        "# default settings\n",
        "model_DT_def = sklearn.tree.DecisionTreeClassifier()\n",
        "model_DT_def.fit(X_train, y_train)\n",
        "\n",
        "model_DT_def.get_depth()\n",
        "\n",
        "# visualize model\n",
        "# sklearn.tree.plot_tree(model_DT_def, proportion=True)\n",
        "\n",
        "# ----- Evaluate Decision Tree -----\n",
        "\n",
        "# Test model\n",
        "pred_DT_def = model_DT_def.predict(X_test)\n",
        "\n",
        "# Accuracy\n",
        "accuracy_DT_def = accuracy_score(y_test, pred_DT_def)\n",
        "print(f\"Accuracy of Decision Tree (default): {accuracy_DT_def:.4f}\")\n",
        "\n",
        "# Precision\n",
        "precision_DT_def = precision_score(y_test, pred_DT_def)\n",
        "print(f\"Precision of Decision Tree (default): {precision_DT_def:.4f}\")\n",
        "\n",
        "# Recall\n",
        "recall_DT_def = recall_score(y_test, pred_DT_def)\n",
        "print(f\"Recall of Decision Tree (default): {recall_DT_def:.4f}\")\n",
        "\n",
        "# F1-score\n",
        "f1_DT_def = f1_score(y_test, pred_DT_def)\n",
        "print(f\"F1 score of Decision Tree (default): {f1_DT_def:.4f}\")\n",
        "\n",
        "metrics_DT = [accuracy_DT_def, precision_DT_def, recall_DT_def, f1_DT_def]\n",
        "\n",
        "print(\"\\n\")\n",
        "\n",
        "# Confusion matrix\n",
        "cm_DT_def = confusion_matrix(y_test, pred_DT_def)\n",
        "print(\"Confusion matrix (default):\")\n",
        "print(cm_DT_def)\n",
        "\n",
        "\n"
      ],
      "metadata": {
        "colab": {
          "base_uri": "https://localhost:8080/"
        },
        "id": "awE8u5CBOknq",
        "outputId": "7204e612-4ce4-48cd-8f35-315581516683"
      },
      "execution_count": null,
      "outputs": [
        {
          "output_type": "stream",
          "name": "stdout",
          "text": [
            "Accuracy of Decision Tree (default): 0.9211\n",
            "Precision of Decision Tree (default): 0.9577\n",
            "Recall of Decision Tree (default): 0.9189\n",
            "F1 score of Decision Tree (default): 0.9379\n",
            "\n",
            "\n",
            "Confusion matrix (default):\n",
            "[[37  3]\n",
            " [ 6 68]]\n"
          ]
        }
      ]
    },
    {
      "cell_type": "markdown",
      "source": [
        "# Random Forest"
      ],
      "metadata": {
        "id": "tJBBJ0HmOaQH"
      }
    },
    {
      "cell_type": "code",
      "source": [
        "# ----- Train Random Forest -----\n",
        "\n",
        "# 100 trees\n",
        "model_RF = RandomForestClassifier()\n",
        "model_RF.fit(X_train, y_train)\n",
        "\n",
        "\n",
        "# ----- Evaluate Random Forest -----\n",
        "\n",
        "# Test model\n",
        "pred_RF = model_RF.predict(X_test)\n",
        "\n",
        "# Accuracy\n",
        "accuracy_RF = accuracy_score(y_test, pred_RF)\n",
        "print(f\"Accuracy of Random Forest (default): {accuracy_RF:.4f}\")\n",
        "\n",
        "# Precision\n",
        "precision_RF = precision_score(y_test, pred_RF)\n",
        "print(f\"Precision of Random Forest (default): {precision_RF:.4f}\")\n",
        "\n",
        "\n",
        "# Recall\n",
        "recall_RF = recall_score(y_test, pred_RF)\n",
        "print(f\"Recall of Random Forest (default): {recall_RF:.4f}\")\n",
        "\n",
        "\n",
        "# F1-score\n",
        "f1_RF = f1_score(y_test, pred_RF)\n",
        "print(f\"F1 score of Random Forest (default): {f1_RF:.4f}\")\n",
        "\n",
        "metrics_RF = [accuracy_RF, precision_RF, recall_RF, f1_RF]\n",
        "\n",
        "print(\"\\n\")\n",
        "\n",
        "# Confusion matrix\n",
        "cm_RF = confusion_matrix(y_test, pred_RF)\n",
        "print(cm_RF)\n",
        "\n"
      ],
      "metadata": {
        "colab": {
          "base_uri": "https://localhost:8080/"
        },
        "id": "tOqV-BSkOtLY",
        "outputId": "3aaa308c-ccc2-43b6-b0af-6a13850c587f"
      },
      "execution_count": null,
      "outputs": [
        {
          "output_type": "stream",
          "name": "stdout",
          "text": [
            "Accuracy of Random Forest (default): 0.9474\n",
            "Precision of Random Forest (default): 0.9452\n",
            "Recall of Random Forest (default): 0.9718\n",
            "F1 score of Random Forest (default): 0.9583\n",
            "\n",
            "\n",
            "[[39  4]\n",
            " [ 2 69]]\n"
          ]
        }
      ]
    },
    {
      "cell_type": "markdown",
      "source": [
        "# Evaluation"
      ],
      "metadata": {
        "id": "l8lgayPGM1Xu"
      }
    },
    {
      "cell_type": "code",
      "source": [
        "models_df = pd.DataFrame({\n",
        "    'Metric': metric_scores,\n",
        "    'KNN': metrics_KNN,\n",
        "    'Decision Tree': metrics_DT,\n",
        "    'Random Forest': metrics_RF\n",
        "})\n",
        "\n",
        "print(models_df)"
      ],
      "metadata": {
        "colab": {
          "base_uri": "https://localhost:8080/"
        },
        "id": "e6OG3aPc4R5K",
        "outputId": "5aca978a-ac0b-4d32-eac6-843b3a76dc62"
      },
      "execution_count": null,
      "outputs": [
        {
          "output_type": "stream",
          "name": "stdout",
          "text": [
            "      Metric       KNN  Decision Tree  Random Forest\n",
            "0   Accuracy  0.973684       0.921053       0.947368\n",
            "1  Precision  0.986301       0.957746       0.945205\n",
            "2     Recall  0.972973       0.918919       0.971831\n",
            "3         F1  0.979592       0.937931       0.958333\n"
          ]
        }
      ]
    },
    {
      "cell_type": "markdown",
      "source": [
        "# Ablation Study"
      ],
      "metadata": {
        "id": "EDnTtqmQPMDr"
      }
    },
    {
      "cell_type": "code",
      "source": [
        "# ----- KNN -----\n",
        "\n",
        "# ----- Train KNN -----\n",
        "\n",
        "# start with n_neighbors = 3\n",
        "model_KNN = neighbors.KNeighborsClassifier(n_neighbors=3)\n",
        "\n",
        "model_KNN.fit(X_train_scaled, y_train)\n",
        "\n",
        "\n",
        "# ----- Evaluate KNN -----\n",
        "\n",
        "# Test model\n",
        "pred_KNN = model_KNN.predict(X_test_scaled)\n",
        "\n",
        "# Accuracy\n",
        "accuracy_KNN = accuracy_score(y_test, pred_KNN)\n",
        "print(f\"Accuracy of KNN (n=3): {accuracy_KNN:.4f}\")\n",
        "\n",
        "# Precision\n",
        "precision_KNN = precision_score(y_test, pred_KNN)\n",
        "print(f\"Precision of KNN (n=3): {precision_KNN:.4f}\")\n",
        "\n",
        "# Recall\n",
        "recall_KNN = recall_score(y_test, pred_KNN)\n",
        "print(f\"Recall of KNN (n=3): {recall_KNN:.4f}\")\n",
        "\n",
        "# F1-score\n",
        "f1_KNN = f1_score(y_test, pred_KNN)\n",
        "print(f\"F1 score of KNN (n=3): {f1_KNN:.4f}\")\n",
        "\n",
        "metrics_KNN = [accuracy_KNN, precision_KNN, recall_KNN, f1_KNN]\n",
        "\n",
        "print(\"\\n\")\n",
        "\n",
        "# Confusion matrix\n",
        "print(\"KNN Confusion matrix:\")\n",
        "confusion_matrix(y_test, pred_KNN)"
      ],
      "metadata": {
        "id": "0oAvDviw3UH9",
        "colab": {
          "base_uri": "https://localhost:8080/"
        },
        "outputId": "579b69f0-e869-4408-d62c-0c8708abddbd"
      },
      "execution_count": null,
      "outputs": [
        {
          "output_type": "stream",
          "name": "stdout",
          "text": [
            "Accuracy of KNN (n=3): 0.9737\n",
            "Precision of KNN (n=3): 0.9863\n",
            "Recall of KNN (n=3): 0.9730\n",
            "F1 score of KNN (n=3): 0.9796\n",
            "\n",
            "\n",
            "KNN Confusion matrix:\n"
          ]
        },
        {
          "output_type": "execute_result",
          "data": {
            "text/plain": [
              "array([[39,  1],\n",
              "       [ 2, 72]])"
            ]
          },
          "metadata": {},
          "execution_count": 27
        }
      ]
    },
    {
      "cell_type": "code",
      "source": [
        "# ----- KNN -----\n",
        "\n",
        "# ----- Train KNN -----\n",
        "\n",
        "# start with n_neighbors = 1\n",
        "model_KNN = neighbors.KNeighborsClassifier(n_neighbors=1)\n",
        "\n",
        "model_KNN.fit(X_train_scaled, y_train)\n",
        "\n",
        "\n",
        "# ----- Evaluate KNN -----\n",
        "\n",
        "# Test model\n",
        "pred_KNN = model_KNN.predict(X_test_scaled)\n",
        "\n",
        "# Accuracy\n",
        "accuracy_KNN = accuracy_score(y_test, pred_KNN)\n",
        "print(f\"Accuracy of KNN (n=1): {accuracy_KNN:.4f}\")\n",
        "\n",
        "# Precision\n",
        "precision_KNN = precision_score(y_test, pred_KNN)\n",
        "print(f\"Precision of KNN (n=1): {precision_KNN:.4f}\")\n",
        "\n",
        "# Recall\n",
        "recall_KNN = recall_score(y_test, pred_KNN)\n",
        "print(f\"Recall of KNN (n=1): {recall_KNN:.4f}\")\n",
        "\n",
        "# F1-score\n",
        "f1_KNN = f1_score(y_test, pred_KNN)\n",
        "print(f\"F1 score of KNN (n=1): {f1_KNN:.4f}\")\n",
        "\n",
        "metrics_KNN = [accuracy_KNN, precision_KNN, recall_KNN, f1_KNN]\n",
        "\n",
        "print(\"\\n\")\n",
        "\n",
        "# Confusion matrix\n",
        "print(\"KNN Confusion matrix:\")\n",
        "confusion_matrix(y_test, pred_KNN)"
      ],
      "metadata": {
        "colab": {
          "base_uri": "https://localhost:8080/"
        },
        "id": "rx6k6jevVMvY",
        "outputId": "daef52b4-3f08-47ce-df00-d5b4429ec890"
      },
      "execution_count": null,
      "outputs": [
        {
          "output_type": "stream",
          "name": "stdout",
          "text": [
            "Accuracy of KNN (n=1): 0.9474\n",
            "Precision of KNN (n=1): 0.9722\n",
            "Recall of KNN (n=1): 0.9459\n",
            "F1 score of KNN (n=1): 0.9589\n",
            "\n",
            "\n",
            "KNN Confusion matrix:\n"
          ]
        },
        {
          "output_type": "execute_result",
          "data": {
            "text/plain": [
              "array([[38,  2],\n",
              "       [ 4, 70]])"
            ]
          },
          "metadata": {},
          "execution_count": 32
        }
      ]
    },
    {
      "cell_type": "code",
      "source": [
        "# ----- Decision Trees -----\n",
        "\n",
        "# max_depth\n",
        "model_DT_maxD = sklearn.tree.DecisionTreeClassifier(max_depth=5)\n",
        "model_DT_maxD.fit(X_train, y_train)\n",
        "\n",
        "# visualize model\n",
        "# sklearn.tree.plot_tree(model_DT_maxD, proportion=True)\n",
        "\n",
        "pred_DT_maxD = model_DT_maxD.predict(X_test)\n",
        "\n",
        "accuracy_DT_maxD = accuracy_score(y_test, pred_DT_maxD)\n",
        "print(f\"Accuracy of Decision Tree (max depth): {accuracy_DT_maxD:.4f}\")\n",
        "\n",
        "precision_DT_maxD = precision_score(y_test, pred_DT_maxD)\n",
        "print(f\"Precision of Decision Tree (max depth): {precision_DT_maxD:.4f}\")\n",
        "\n",
        "recall_DT_maxD = precision_score(y_test, pred_DT_maxD)\n",
        "print(f\"Recall of Decision Tree (max depth): {recall_DT_maxD:.4f}\")\n",
        "\n",
        "f1_DT_maxD = f1_score(y_test, pred_DT_maxD)\n",
        "print(f\"F1 score of Decision Tree (max depth): {f1_DT_maxD:.4f}\")\n",
        "\n",
        "cm_DT_maxD = confusion_matrix(y_test, pred_DT_maxD)\n",
        "print(\"Confusion matrix (max depth):\")\n",
        "print(cm_DT_maxD)"
      ],
      "metadata": {
        "colab": {
          "base_uri": "https://localhost:8080/"
        },
        "id": "uUNqzbYY3Q7K",
        "outputId": "05e388c1-799b-4bdd-c5b9-527bed8e8bf6"
      },
      "execution_count": null,
      "outputs": [
        {
          "output_type": "stream",
          "name": "stdout",
          "text": [
            "Accuracy of Decision Tree (max depth): 0.9211\n",
            "Precision of Decision Tree (max depth): 0.9189\n",
            "Recall of Decision Tree (max depth): 0.9189\n",
            "F1 score of Decision Tree (max depth): 0.9379\n",
            "Confusion matrix (max depth):\n",
            "[[37  6]\n",
            " [ 3 68]]\n"
          ]
        }
      ]
    },
    {
      "cell_type": "code",
      "source": [
        "# ----- Random Forests -----\n",
        "\n",
        "model_RF_maxD = RandomForestClassifier(n_estimators=100,\n",
        "                                       max_depth=None,\n",
        "                                       min_samples_split=2)\n",
        "model_RF_maxD.fit(X_train, y_train)\n",
        "\n"
      ],
      "metadata": {
        "id": "uhqKRp0g2lR_"
      },
      "execution_count": null,
      "outputs": []
    }
  ]
}